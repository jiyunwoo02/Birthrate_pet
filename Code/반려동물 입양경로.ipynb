{
 "cells": [
  {
   "cell_type": "code",
   "execution_count": 30,
   "id": "2718078d",
   "metadata": {},
   "outputs": [],
   "source": [
    "import matplotlib.pyplot as plt\n",
    "import matplotlib\n",
    "matplotlib.rcParams['font.family']='Malgun Gothic'\n",
    "matplotlib.rcParams['axes.unicode_minus']=False"
   ]
  },
  {
   "cell_type": "code",
   "execution_count": 31,
   "id": "37dfd136",
   "metadata": {},
   "outputs": [
    {
     "data": {
      "text/html": [
       "<div>\n",
       "<style scoped>\n",
       "    .dataframe tbody tr th:only-of-type {\n",
       "        vertical-align: middle;\n",
       "    }\n",
       "\n",
       "    .dataframe tbody tr th {\n",
       "        vertical-align: top;\n",
       "    }\n",
       "\n",
       "    .dataframe thead th {\n",
       "        text-align: right;\n",
       "    }\n",
       "</style>\n",
       "<table border=\"1\" class=\"dataframe\">\n",
       "  <thead>\n",
       "    <tr style=\"text-align: right;\">\n",
       "      <th></th>\n",
       "      <th>경로</th>\n",
       "      <th>2019</th>\n",
       "      <th>2020</th>\n",
       "      <th>2021</th>\n",
       "    </tr>\n",
       "  </thead>\n",
       "  <tbody>\n",
       "    <tr>\n",
       "      <th>0</th>\n",
       "      <td>지인-무료</td>\n",
       "      <td>45.0</td>\n",
       "      <td>57.0</td>\n",
       "      <td>44.3</td>\n",
       "    </tr>\n",
       "    <tr>\n",
       "      <th>1</th>\n",
       "      <td>펫숍</td>\n",
       "      <td>23.2</td>\n",
       "      <td>18.6</td>\n",
       "      <td>22.5</td>\n",
       "    </tr>\n",
       "    <tr>\n",
       "      <th>2</th>\n",
       "      <td>지인-유료</td>\n",
       "      <td>16.9</td>\n",
       "      <td>12.1</td>\n",
       "      <td>8.8</td>\n",
       "    </tr>\n",
       "    <tr>\n",
       "      <th>3</th>\n",
       "      <td>유기견.묘</td>\n",
       "      <td>5.1</td>\n",
       "      <td>2.4</td>\n",
       "      <td>6.2</td>\n",
       "    </tr>\n",
       "    <tr>\n",
       "      <th>4</th>\n",
       "      <td>동물보호센터</td>\n",
       "      <td>6.0</td>\n",
       "      <td>3.0</td>\n",
       "      <td>5.1</td>\n",
       "    </tr>\n",
       "    <tr>\n",
       "      <th>5</th>\n",
       "      <td>개인브리더</td>\n",
       "      <td>0.0</td>\n",
       "      <td>4.7</td>\n",
       "      <td>5.0</td>\n",
       "    </tr>\n",
       "    <tr>\n",
       "      <th>6</th>\n",
       "      <td>민간동물보호시설</td>\n",
       "      <td>3.0</td>\n",
       "      <td>1.8</td>\n",
       "      <td>3.7</td>\n",
       "    </tr>\n",
       "    <tr>\n",
       "      <th>7</th>\n",
       "      <td>온라인</td>\n",
       "      <td>2.3</td>\n",
       "      <td>0.9</td>\n",
       "      <td>2.3</td>\n",
       "    </tr>\n",
       "    <tr>\n",
       "      <th>8</th>\n",
       "      <td>기타</td>\n",
       "      <td>1.3</td>\n",
       "      <td>1.9</td>\n",
       "      <td>2.2</td>\n",
       "    </tr>\n",
       "  </tbody>\n",
       "</table>\n",
       "</div>"
      ],
      "text/plain": [
       "         경로  2019  2020  2021\n",
       "0     지인-무료  45.0  57.0  44.3\n",
       "1        펫숍  23.2  18.6  22.5\n",
       "2     지인-유료  16.9  12.1   8.8\n",
       "3     유기견.묘   5.1   2.4   6.2\n",
       "4    동물보호센터   6.0   3.0   5.1\n",
       "5     개인브리더   0.0   4.7   5.0\n",
       "6  민간동물보호시설   3.0   1.8   3.7\n",
       "7       온라인   2.3   0.9   2.3\n",
       "8        기타   1.3   1.9   2.2"
      ]
     },
     "execution_count": 31,
     "metadata": {},
     "output_type": "execute_result"
    }
   ],
   "source": [
    "import pandas as pd\n",
    "df = pd.read_excel('c:/new/route.xlsx')\n",
    "df"
   ]
  },
  {
   "cell_type": "code",
   "execution_count": 32,
   "id": "55851e92",
   "metadata": {},
   "outputs": [],
   "source": [
    "import numpy as np"
   ]
  },
  {
   "cell_type": "code",
   "execution_count": 33,
   "id": "0d476ce4",
   "metadata": {},
   "outputs": [
    {
     "data": {
      "text/plain": [
       "array([0, 1, 2, 3, 4, 5, 6, 7, 8])"
      ]
     },
     "execution_count": 33,
     "metadata": {},
     "output_type": "execute_result"
    }
   ],
   "source": [
    "N = df.shape[0]\n",
    "index = np.arange(N)\n",
    "index"
   ]
  },
  {
   "cell_type": "code",
   "execution_count": 38,
   "id": "8d61d2b8",
   "metadata": {},
   "outputs": [
    {
     "data": {
      "text/plain": [
       "([<matplotlib.axis.XTick at 0x251cbb0d220>,\n",
       "  <matplotlib.axis.XTick at 0x251cbb0d1f0>,\n",
       "  <matplotlib.axis.XTick at 0x251cb631880>,\n",
       "  <matplotlib.axis.XTick at 0x251cbb77970>,\n",
       "  <matplotlib.axis.XTick at 0x251cbb7c100>,\n",
       "  <matplotlib.axis.XTick at 0x251cbb7c850>,\n",
       "  <matplotlib.axis.XTick at 0x251cbb84070>,\n",
       "  <matplotlib.axis.XTick at 0x251cbb84730>,\n",
       "  <matplotlib.axis.XTick at 0x251cbb7cbe0>],\n",
       " [Text(0, 0, '지인-무료'),\n",
       "  Text(1, 0, '펫숍'),\n",
       "  Text(2, 0, '지인-유료'),\n",
       "  Text(3, 0, '유기견.묘'),\n",
       "  Text(4, 0, '동물보호센터'),\n",
       "  Text(5, 0, '개인브리더'),\n",
       "  Text(6, 0, '민간동물보호시설'),\n",
       "  Text(7, 0, '온라인'),\n",
       "  Text(8, 0, '기타')])"
      ]
     },
     "execution_count": 38,
     "metadata": {},
     "output_type": "execute_result"
    },
    {
     "data": {
      "image/png": "[encoded data removed]",
      "text/plain": [
       "<Figure size 1000x500 with 1 Axes>"
      ]
     },
     "metadata": {},
     "output_type": "display_data"
    }
   ],
   "source": [
    "plt.figure(figsize=(10,5))\n",
    "plt.title('반려동물 입양경로')\n",
    "\n",
    "w = 0.25\n",
    "plt.bar(index - w, df[2019],width=w,label='2019')\n",
    "plt.bar(index, df[2020],width=w,label='2020')\n",
    "plt.bar(index + w, df[2021],width=w,label='2021')\n",
    "plt.legend(ncol=3)\n",
    "plt.xticks(index,df['경로'],rotation=30)"
   ]
  },
  {
   "cell_type": "code",
   "execution_count": null,
   "id": "8dfa8079",
   "metadata": {},
   "outputs": [],
   "source": []
  },
  {
   "cell_type": "code",
   "execution_count": null,
   "id": "2f481fab",
   "metadata": {},
   "outputs": [],
   "source": []
  }
 ],
 "metadata": {
  "kernelspec": {
   "display_name": "Python 3 (ipykernel)",
   "language": "python",
   "name": "python3"
  },
  "language_info": {
   "codemirror_mode": {
    "name": "ipython",
    "version": 3
   },
   "file_extension": ".py",
   "mimetype": "text/x-python",
   "name": "python",
   "nbconvert_exporter": "python",
   "pygments_lexer": "ipython3",
   "version": "3.9.13"
  }
 },
 "nbformat": 4,
 "nbformat_minor": 5
}
